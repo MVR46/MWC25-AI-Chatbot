{
 "cells": [
  {
   "cell_type": "markdown",
   "metadata": {},
   "source": [
    "<h2 style=\"color: #FF6347;\">Introduction to Virtual Environments</h2>"
   ]
  },
  {
   "cell_type": "markdown",
   "metadata": {},
   "source": [
    "<div style=\"text-align: center;\">\n",
    "    <img src=\"https://i.giphy.com/media/v1.Y2lkPTc5MGI3NjExemdjOWpnN2FmZnBwYWN3ZTV1N2J4dTVyeW40bDdiMDF2ajh1bzd2ZCZlcD12MV9pbnRlcm5hbF9naWZfYnlfaWQmY3Q9Zw/fRgwpuil2wHww7OXjT/giphy.gif\" alt=\"NLP Gif\" style=\"width: 300px; height: 150px; object-fit: cover; object-position: center;\">\n",
    "</div>"
   ]
  },
  {
   "cell_type": "markdown",
   "metadata": {},
   "source": [
    "Virtual environments are isolated spaces where Python dependencies can be installed and managed separately. They ensure that different projects have their own dependencies without interfering with each other.\n",
    "\n",
    "In this notebook, you will learn how to:\n",
    "- Create and manage virtual environments using `pip` and `conda`.\n",
    "- Save and replicate dependencies using a `requirements.txt` file.\n",
    "- Practice setting up a virtual environment to replicate a Python project on another machine.\n",
    "\n",
    "Virtual environments are critical for maintaining clean and reproducible Python workflows."
   ]
  },
  {
   "cell_type": "markdown",
   "metadata": {},
   "source": [
    "<h2 style=\"color: #FF6347;\">Conda, Miniconda, and Anaconda</h2>\n",
    "\n",
    "Conda is a powerful package management and environment management tool widely used in data science and machine learning workflows. It helps manage dependencies and create isolated environments.\n",
    "\n",
    "<h3 style=\"color: #FF8C00;\">What are Conda, Miniconda, and Anaconda?</h3>\n",
    "\n",
    "- **Conda**: A package and environment manager that works on Windows, macOS, and Linux. It is language-agnostic and can manage Python and non-Python libraries.\n",
    "- **Miniconda**: A lightweight distribution of Conda that includes only Conda and its dependencies. Ideal if you want to customize your environment without additional libraries.\n",
    "- **Anaconda**: A full-fledged distribution that includes Conda, Python, and over 1,500 data science libraries (e.g., NumPy, pandas, matplotlib). It’s great for beginners but can be large in size.\n",
    "\n",
    "<h3 style=\"color: #FF8C00;\">Choosing Between Them:</h3>\n",
    "\n",
    "- Use **Miniconda** if you prefer minimal installations and want to install only the required libraries.\n",
    "- Use **Anaconda** if you’re new to Python or need a ready-to-use environment for data science."
   ]
  },
  {
   "cell_type": "markdown",
   "metadata": {},
   "source": [
    "<div style=\"text-align: center;\">\n",
    "    <img src=\"https://i.giphy.com/media/v1.Y2lkPTc5MGI3NjExOGlmbTZ2a25rbnN2c3FrcG1mb3pxd2Vtc2Fxb292eXU0OTFudWplaiZlcD12MV9pbnRlcm5hbF9naWZfYnlfaWQmY3Q9Zw/ij7ZUDifM6Vtr89MDf/giphy.gif\" alt=\"NLP Gif\" style=\"width: 300px; height: 150px; object-fit: cover; object-position: center;\">\n",
    "</div>"
   ]
  },
  {
   "cell_type": "markdown",
   "metadata": {},
   "source": [
    "<h2 style=\"color: #FF6347;\">Creating Virtual Environments with conda</h2>\n",
    "\n",
    "<h3 style=\"color: #FF8C00;\">Key Commands:</h3>\n",
    "\n",
    "- Create a virtual environment: `$ conda create -n 'env_name'`\n",
    "- Activate the virtual environment: `$ conda activate 'env_name'`\n",
    "- Save dependencies: `$ conda list --export > requirements.txt`\n",
    "- Reproduce the environment: `$ conda create -n 'new_env_name' --file requirements.txt`"
   ]
  },
  {
   "cell_type": "code",
   "execution_count": null,
   "metadata": {},
   "outputs": [],
   "source": [
    "# Step 1: Create a conda environment\n",
    "!conda create -n my_conda_env python=3.9 -y\n",
    "\n",
    "# Activate the environment (instructions in markdown)\n",
    "\n",
    "# Step 3: Save dependencies to environment.yml\n",
    "!conda env export --name my_conda_env > environment.yml\n",
    "\n",
    "# Or as requirements.txt\n",
    "!pip freeze > requirements.txt"
   ]
  },
  {
   "cell_type": "markdown",
   "metadata": {},
   "source": [
    "<h2 style=\"color: #FF6347;\">Moving a Project to Another Machine</h2>\n",
    "\n",
    "This tutorial demonstrates how to replicate a Python project on another machine. Follow these steps:\n",
    "1. Create a virtual environment and install dependencies for an existing project.\n",
    "2. Save the dependencies to a `requirements.txt` file.\n",
    "3. On another machine, create a new virtual environment and install the dependencies.\n",
    "\n",
    "<h3 style=\"color: #FF8C00;\">Steps:</h3>\n",
    "\n",
    "1. **On Machine A**:\n",
    "   - Create a virtual environment and install the necessary packages.\n",
    "   - Save the dependencies using `$ pip freeze > requirements.txt`.\n",
    "2. **On Machine B**:\n",
    "   - Create a new virtual environment.\n",
    "   - Install the dependencies using `$ pip install -r requirements.txt`.\n",
    "   - Run the project to verify.\n",
    "\n",
    "This process ensures a reproducible environment for your Python projects."
   ]
  },
  {
   "cell_type": "code",
   "execution_count": null,
   "metadata": {},
   "outputs": [],
   "source": [
    "# Install dependencies\n",
    "!pip install -r requirements.txt\n",
    "print(\"Dependencies installed using requirements.txt\")\n",
    "\n",
    "# Using environment.yml with conda:\n",
    "!conda env create -f environment.yml\n",
    "print(\"Dependencies installed using environment.yml\")"
   ]
  },
  {
   "cell_type": "markdown",
   "metadata": {},
   "source": [
    "<div style=\"text-align: center;\">\n",
    "    <img src=\"https://i.giphy.com/media/v1.Y2lkPTc5MGI3NjExMzd2bndvYnU3N2dsdmpmbGl6dzU2MHRhNWF4cTlpd2N2bmZ0YXA5ZCZlcD12MV9pbnRlcm5hbF9naWZfYnlfaWQmY3Q9Zw/OmK8lulOMQ9XO/giphy.gif\" alt=\"NLP Gif\" style=\"width: 300px; height: 150px; object-fit: cover; object-position: center;\">\n",
    "</div>"
   ]
  },
  {
   "cell_type": "markdown",
   "metadata": {},
   "source": [
    "<h2 style=\"color: #FF6347;\">Introduction to Streamlit</h2>\n",
    "\n",
    "Streamlit is an open-source Python library that makes it easy to create and share interactive web applications for data science and machine learning projects. With Streamlit, you can build web apps in pure Python without needing to learn HTML, CSS, or JavaScript.\n",
    "\n",
    "<h3 style=\"color: #FF8C00;\">What You’ll Learn:</h3>\n",
    "- Install and set up Streamlit.\n",
    "- Create a basic Streamlit app with interactive widgets.\n",
    "- Deploy a Streamlit app for others to use.\n",
    "\n",
    "Streamlit simplifies app development and enables quick prototyping of interactive tools for data exploration and visualization."
   ]
  },
  {
   "cell_type": "markdown",
   "metadata": {},
   "source": [
    "<h2 style=\"color: #FF6347;\">Installing and Running Streamlit</h2>\n",
    "\n",
    "To use Streamlit, you need to install it and run the app using the Streamlit CLI.\n",
    "\n",
    "<h3 style=\"color: #FF8C00;\">Key Commands:</h3>\n",
    "\n",
    "- Install Streamlit: `$ pip install streamlit`\n",
    "- Run a Streamlit app: `$ streamlit run your_script.py`"
   ]
  },
  {
   "cell_type": "code",
   "execution_count": null,
   "metadata": {},
   "outputs": [],
   "source": [
    "# Install Streamlit\n",
    "!pip install streamlit\n",
    "\n",
    "# Verify the installation\n",
    "!streamlit --version"
   ]
  },
  {
   "cell_type": "markdown",
   "metadata": {},
   "source": [
    "<h2 style=\"color: #FF6347;\">Creating a Basic Streamlit App</h2>\n",
    "\n",
    "Streamlit apps are written in Python scripts and include elements like text, charts, and widgets for interaction.\n",
    "\n",
    "<h3 style=\"color: #FF8C00;\">Key Concepts:</h3>\n",
    "\n",
    "- **Text Elements**: Display text with `st.write` or `st.markdown`.\n",
    "- **Interactive Widgets**: Add inputs like sliders, checkboxes, and buttons.\n",
    "- **Charts**: Visualize data using built-in charting functions.\n",
    "\n",
    "Here’s how to create a simple Streamlit app with basic elements."
   ]
  },
  {
   "cell_type": "code",
   "execution_count": null,
   "metadata": {},
   "outputs": [],
   "source": [
    "# Create a basic Streamlit app (save this code to a .py file, e.g., app.py)\n",
    "import streamlit as st\n",
    "\n",
    "# Title and text\n",
    "st.title(\"My First Streamlit App\")\n",
    "st.write(\"Welcome to Streamlit! This is a simple web app.\")\n",
    "\n",
    "# Add interactive widgets\n",
    "name = st.text_input(\"What's your name?\")\n",
    "if name:\n",
    "    st.write(f\"Hello, {name}! 👋\")\n",
    "\n",
    "# Add a slider\n",
    "age = st.slider(\"How old are you?\", 0, 100, 25)\n",
    "st.write(f\"Your age is: {age}\")"
   ]
  },
  {
   "cell_type": "markdown",
   "metadata": {},
   "source": [
    "<h2 style=\"color: #FF6347;\">Adding Data Visualization</h2>\n",
    "\n",
    "Streamlit integrates well with popular Python visualization libraries like **matplotlib**, **plotly**, and **altair**. It also includes built-in support for creating charts.\n",
    "\n",
    "<h3 style=\"color: #FF8C00;\">Key Concepts:</h3>\n",
    "\n",
    "- Use `st.line_chart`, `st.bar_chart`, and `st.area_chart` for quick visualizations.\n",
    "- Integrate custom plots with `st.pyplot` or `st.plotly_chart`."
   ]
  },
  {
   "cell_type": "code",
   "execution_count": null,
   "metadata": {},
   "outputs": [],
   "source": [
    "# Adding charts to your Streamlit app\n",
    "import pandas as pd\n",
    "import numpy as np\n",
    "import streamlit as st\n",
    "\n",
    "# Generate sample data\n",
    "data = pd.DataFrame({\n",
    "    'x': range(10),\n",
    "    'y': np.random.randn(10)\n",
    "})\n",
    "\n",
    "# Line chart\n",
    "st.line_chart(data)\n",
    "\n",
    "# Bar chart\n",
    "st.bar_chart(data)\n",
    "\n",
    "# Custom matplotlib chart\n",
    "import matplotlib.pyplot as plt\n",
    "\n",
    "fig, ax = plt.subplots()\n",
    "ax.plot(data['x'], data['y'], label='Random Data')\n",
    "ax.set_title(\"Custom Line Plot\")\n",
    "ax.legend()\n",
    "\n",
    "st.pyplot(fig)"
   ]
  },
  {
   "cell_type": "markdown",
   "metadata": {},
   "source": [
    "<h2 style=\"color: #FF6347;\">Deploying the Streamlit App</h2>\n",
    "\n",
    "Streamlit apps can be deployed using various methods, such as:\n",
    "- **Streamlit Community Cloud**: A free platform for deploying Streamlit apps.\n",
    "- **Heroku**: A cloud platform for deploying web applications.\n",
    "- **Docker**: Containerize the app for deployment.\n",
    "\n",
    "<h3 style=\"color: #FF8C00;\">Steps to Deploy on Streamlit Community Cloud:</h3>\n",
    "\n",
    "1. Push your app script (`app.py`) to a GitHub repository.\n",
    "2. Log in to [Streamlit Community Cloud](https://streamlit.io/cloud).\n",
    "3. Connect your GitHub repository and deploy your app.\n",
    "4. Share the generated link with others."
   ]
  },
  {
   "cell_type": "markdown",
   "metadata": {},
   "source": [
    "<div style=\"text-align: center;\">\n",
    "    <img src=\"https://i.giphy.com/media/v1.Y2lkPTc5MGI3NjExcHJjdzloZzQxOTFobGlnZjE5dXplaTZydTJxb21xM2p6dWJrODVscSZlcD12MV9pbnRlcm5hbF9naWZfYnlfaWQmY3Q9Zw/LVi2RJcTvq5AuuIdJz/giphy.gif\" alt=\"NLP Gif\" style=\"width: 300px; height: 150px; object-fit: cover; object-position: center;\">\n",
    "</div>"
   ]
  },
  {
   "cell_type": "markdown",
   "metadata": {},
   "source": [
    "<h2 style=\"color: #FF6347;\">Storing and Loading API Keys Securely</h2>\n",
    "\n",
    "When working with APIs like OpenAI and Hugging Face, **never hardcode API keys** in your code. Instead, store them in a **`.env` file** and use `load_dotenv` to load them securely."
   ]
  },
  {
   "cell_type": "code",
   "execution_count": null,
   "metadata": {},
   "outputs": [],
   "source": [
    "from dotenv import load_dotenv\n",
    "import os\n",
    "\n",
    "# Load the .env file\n",
    "load_dotenv()\n",
    "\n",
    "# Retrieve API keys\n",
    "openai_key = os.getenv(\"OPENAI_API_KEY\")\n",
    "hf_key = os.getenv(\"HF_API_KEY\")\n",
    "\n",
    "# Verify that keys are loaded (remove in production)\n",
    "print(\"✅ OpenAI Key Loaded:\", openai_key is not None)\n",
    "print(\"✅ Hugging Face Key Loaded:\", hf_key is not None)"
   ]
  },
  {
   "cell_type": "markdown",
   "metadata": {},
   "source": [
    "<h2 style=\"color: #FF6347;\">Using Hugging Face API</h2>\n",
    "\n",
    "Hugging Face provides a variety of AI models and APIs for NLP, Computer Vision, and more. To use their API, follow these steps:\n",
    "\n",
    "### **1️⃣ Getting Your Hugging Face API Key**\n",
    "1. Go to [Hugging Face](https://huggingface.co/settings/tokens).\n",
    "2. Sign in or create an account.\n",
    "3. Scroll down to the **Access Tokens** section.\n",
    "4. Click **New Token**, set the scope to `read`, and copy the token."
   ]
  },
  {
   "cell_type": "code",
   "execution_count": null,
   "metadata": {},
   "outputs": [],
   "source": [
    "# How to use it for main.py\n",
    "import os\n",
    "import requests\n",
    "import streamlit as st\n",
    "from dotenv import load_dotenv\n",
    "\n",
    "# --- Load API keys ---\n",
    "load_dotenv()\n",
    "hf_api_key = os.getenv(\"HF_API_KEY\")\n",
    "\n",
    "# --- Streamlit UI Configuration ---\n",
    "st.set_page_config(page_title=\"MWC25 AI Chatbot\", page_icon=\"🤖\", layout=\"wide\")\n",
    "\n",
    "# --- Header & Chat History Setup ---\n",
    "# ...\n",
    "\n",
    "# --- User Input ---\n",
    "user_question = st.chat_input(\"Ask me anything...\")\n",
    "\n",
    "if user_question:\n",
    "    st.session_state[\"messages\"].append({\"role\": \"user\", \"content\": user_question})\n",
    "    with st.chat_message(\"user\"):\n",
    "        st.markdown(user_question)\n",
    "\n",
    "    # --- Processing Animation ---\n",
    "    with st.spinner(\"Thinking... 🤔\"):\n",
    "        # --- Load documents and embeddings (if used) ---\n",
    "        # ...\n",
    "\n",
    "        # --- Call Hugging Face API ---\n",
    "        def query_huggingface(text):\n",
    "            api_url = \"https://api-inference.huggingface.co/models/bigscience/bloom\"\n",
    "            headers = {\"Authorization\": f\"Bearer {hf_api_key}\"}\n",
    "            payload = {\"inputs\": text, \"parameters\": {\"max_length\": 250}}\n",
    "            \n",
    "            response = requests.post(api_url, headers=headers, json=payload)\n",
    "            return response.json()\n",
    "\n",
    "        # --- Construct AI Prompt ---\n",
    "        prompt = f\"\"\"\n",
    "        ## SYSTEM ROLE\n",
    "        You are an AI assistant providing concise, accurate answers based only on the given context.\n",
    "\n",
    "        ## USER QUESTION\n",
    "        \"{user_question}\"\n",
    "\n",
    "        ## CONTEXT\n",
    "        '''\n",
    "        [Relevant extracted content from documents]\n",
    "        '''\n",
    "\n",
    "        ## RESPONSE FORMAT\n",
    "        **Answer:** [Concise response]\n",
    "\n",
    "        📌 **Key Insights:**\n",
    "        - Bullet point 1\n",
    "        - Bullet point 2\n",
    "\n",
    "        📖 **Sources:** [Document names and pages]\n",
    "        \"\"\"\n",
    "\n",
    "        response = query_huggingface(prompt)\n",
    "\n",
    "        if \"error\" in response:\n",
    "            answer = \"⚠️ Error: Unable to fetch response from Hugging Face API.\"\n",
    "        else:\n",
    "            answer = response[0]['generated_text']\n",
    "\n",
    "    # --- Display AI Response ---\n",
    "    st.session_state[\"messages\"].append({\"role\": \"assistant\", \"content\": answer})\n",
    "    with st.chat_message(\"assistant\"):\n",
    "        st.markdown(answer)"
   ]
  }
 ],
 "metadata": {
  "kernelspec": {
   "display_name": "ironhack",
   "language": "python",
   "name": "python3"
  },
  "language_info": {
   "name": "python",
   "version": "3.13.0"
  }
 },
 "nbformat": 4,
 "nbformat_minor": 2
}
